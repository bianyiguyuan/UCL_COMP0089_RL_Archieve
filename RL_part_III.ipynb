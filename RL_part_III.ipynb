{
  "cells": [
    {
      "cell_type": "markdown",
      "metadata": {
        "id": "pYs6LMEbNqoQ"
      },
      "source": [
        "# RL coursework, part III (25 pts total)\n",
        "---\n",
        "\n",
        "**Name:** Harry Yao\n",
        "\n",
        "**SN:** 20012409\n",
        "\n",
        "---\n",
        "\n",
        "**Due date:** *April 10th, 2025*\n",
        "\n",
        "---\n",
        "\n",
        "Standard UCL policy (including grade deductions) automatically applies for any late submissions.\n",
        "\n",
        "## How to submit\n",
        "\n",
        "When you have completed the exercises and everything has finished running, click on 'File' in the menu-bar and then 'Download .ipynb'. This file must be submitted to Moodle named as **`<studentnumber>_RL_part3.ipynb`** before the deadline above, where `<studentnumber>` is your student number.\n",
        "\n",
        "----\n",
        "**Reminder of copyrights**\n",
        "\n",
        "Copyrights protect this code/content and distribution or usages of it (or parts of it) without permission is prohibited. This includes uploading it and usage of it in training in any LLMs systems."
      ]
    },
    {
      "cell_type": "markdown",
      "metadata": {
        "id": "rNuohp44N00i"
      },
      "source": [
        "# The Assignment\n",
        "\n",
        "### Objectives\n",
        "\n",
        "You will be guided through the implementation of a full deep reinforcement learning agent."
      ]
    },
    {
      "cell_type": "markdown",
      "metadata": {
        "id": "nVBcO5mAV9Ow"
      },
      "source": [
        "## Setup\n",
        "\n",
        "Run all the cells in this section, but do not modify them."
      ]
    },
    {
      "cell_type": "markdown",
      "metadata": {
        "id": "Z1p0fpbxQLyn"
      },
      "source": [
        "## Imports"
      ]
    },
    {
      "cell_type": "code",
      "execution_count": null,
      "metadata": {
        "id": "Ps5OnkPmDbMX"
      },
      "outputs": [],
      "source": [
        "import matplotlib.pyplot as plt\n",
        "import numpy as np\n",
        "\n",
        "np.set_printoptions(precision=3, suppress=1)"
      ]
    },
    {
      "cell_type": "markdown",
      "metadata": {
        "id": "3lpweIqAWBX3"
      },
      "source": [
        "## Helpers"
      ]
    },
    {
      "cell_type": "markdown",
      "metadata": {
        "id": "iIRC73HLq6VH"
      },
      "source": [
        "# A) Actor-critics\n",
        "\n",
        "You are going to implement an Actor-critic agent that updates a policy parametrised as a deep neural network.\n",
        "\n",
        "The agent learns online from a single stream of experience, updating the parametes of its policy after each transition in the environment."
      ]
    },
    {
      "cell_type": "markdown",
      "metadata": {
        "id": "KV03Q3MpveUM"
      },
      "source": [
        "### Install packages"
      ]
    },
    {
      "cell_type": "code",
      "execution_count": null,
      "metadata": {
        "id": "wc-kqp3tveUT"
      },
      "outputs": [],
      "source": [
        "!pip install -U jax==0.4.33 jaxlib==0.4.33\n",
        "!git clone https://github.com/deepmind/bsuite.git\n",
        "!pip install bsuite/"
      ]
    },
    {
      "cell_type": "markdown",
      "metadata": {
        "id": "r_pTfi5dSFX5"
      },
      "source": [
        "### Imports"
      ]
    },
    {
      "cell_type": "code",
      "execution_count": null,
      "metadata": {
        "id": "huyKrYpvSHSu"
      },
      "outputs": [],
      "source": [
        "from bsuite.environments import catch\n",
        "\n",
        "import jax\n",
        "import jax.numpy as jnp"
      ]
    },
    {
      "cell_type": "markdown",
      "metadata": {
        "id": "M6kEki4XHbPy"
      },
      "source": [
        "### Plotting"
      ]
    },
    {
      "cell_type": "code",
      "execution_count": null,
      "metadata": {
        "id": "EYdWwRrbHbcl"
      },
      "outputs": [],
      "source": [
        "def plot_learning_curve(list_of_episode_returns):\n",
        "  \"\"\"Plot the learning curve.\"\"\"\n",
        "  plt.figure(figsize=(7, 5))\n",
        "\n",
        "  def moving_average(x, w):\n",
        "    return np.convolve(x, np.ones(w), 'valid') / w\n",
        "\n",
        "  smoothed_returns = moving_average(list_of_episode_returns, 30)\n",
        "  plt.plot(smoothed_returns)\n",
        "\n",
        "  plt.xlabel('Average episode returns')\n",
        "  plt.xlabel('Number of episodes')\n",
        "\n",
        "  ax = plt.gca()\n",
        "  ax.spines['left'].set_visible(True)\n",
        "  ax.spines['bottom'].set_visible(True)\n",
        "  ax.spines['right'].set_visible(False)\n",
        "  ax.spines['top'].set_visible(False)\n",
        "  ax.xaxis.set_ticks_position('bottom')\n",
        "  ax.yaxis.set_ticks_position('left')"
      ]
    },
    {
      "cell_type": "markdown",
      "metadata": {
        "id": "Xtlrr5d2p7cS"
      },
      "source": [
        "### Neural networks\n",
        "\n",
        "You will use JAX to define a network parametrising:\n",
        "\n",
        "* The values of each state $v(s)$.\n",
        "* The action preferences in each state $\\{p_i(s)\\}_{i\\in\\{1, ..., |A|\\}}$ (you can think of and implement the preferences $\\mathbf{p}(s)$ as a vector output with $|A|$ elements).\n",
        "\n",
        "There are many neural network libraries available that can be used to create networks in jax.  But here we will keep things relatively simple and just define our own network.\n",
        "\n",
        "Specifically, we will define a `network` function returns a **scalar** value `v` and a **vector** of preferences `p`, which will define the policy of the agent.  This function will take as its inputs a dictionary `params` of parameters that we will update, which will contain all the parameters of the network.\n",
        "\n",
        "A lot of the boilerplate code has been written for you.  You will have to implement some functions as indicated in the questions below."
      ]
    },
    {
      "cell_type": "markdown",
      "metadata": {
        "id": "Gj1nsUYuOoe1"
      },
      "source": [
        "### Q1 [3 marks]\n",
        "\n",
        "Create the parameters and define the forward pass of the neural network. The `network` function must look as follows when we call it:\n",
        "`v, p = network(params, observation)`\n",
        "\n",
        "The network should be implemented as follows:\n",
        "* The inputs are a dictionary of parameters `params`, and a tensor (a `jnp.array`) called `observation`.\n",
        "* We reshape the observation into a flat vector `flat_observation`.\n",
        "* We compute a hidden representation\n",
        "`h = relu(flat_observation.dot(w) + b)`, where the weights and biases are given in the input dictionary as `w = params['w']` and `v = params['b']` (and analogously for all other parameters), and where `relu(x)` is a 'rectifier linear unit', which computes $\\max(x, 0)$ elementwise (you can use `jax.nn.relu(x)` to implement this, if you want).\n",
        "* We compute a vector of action preferences as a linear function of `h`, such that `p = h.dot(w_p) + b_p`.\n",
        "* Similarly, we compute a scalar state value `v` as a linear function of `h`.\n",
        "* Finally, we return the scalar value and vector preferences as a tuple.\n",
        "\n",
        "Further, make sure that:\n",
        "* The hidden representation should be a vector of 50 elements.\n",
        "* The action preferences should be a vector of 3 elements (one per each available action).\n",
        "* The value should be a scalar (not a vector with one element).\n",
        "* All parameters should be initialised randomly as follows:\n",
        "```\n",
        "rng_key, param_key = jax.random.split(rng_key)\n",
        "parameter = jax.random.truncated_normal(param_key, -1, 1, shape)\n",
        "```\n",
        "where `shape` is the relevant shape for this `parameter` (e.g., `parameter` is `w` or `b`, etc.).  The first line is important: it 'splits' the random key into a temporary random key `param_key` that should **only** be used for this parameter, and a new `rng_key` that can be split again later for the next parameters, etc.\n"
      ]
    },
    {
      "cell_type": "code",
      "execution_count": null,
      "metadata": {
        "id": "dF-6IWP30nip"
      },
      "outputs": [],
      "source": [
        "def create_parameters(rng_key, observation):\n",
        "  # Returns a dictionary with the desired parameters for the network\n",
        "  params = {}\n",
        "  rng_key, param_key = jax.random.split(rng_key)\n",
        "  params['w'] = jax.random.truncated_normal(\n",
        "      param_key, -1, 1, (jnp.size(observation), 50)\n",
        "  )\n",
        "  rng_key, param_key = jax.random.split(rng_key)\n",
        "  params['b'] = jax.random.truncated_normal(\n",
        "      param_key, -1, 1, (50,)\n",
        "  )\n",
        "  rng_key, param_key = jax.random.split(rng_key)\n",
        "  params['w_p'] = jax.random.truncated_normal(\n",
        "      param_key, -1, 1, (50, 3)\n",
        "  )\n",
        "  rng_key, param_key = jax.random.split(rng_key)\n",
        "  params['b_p'] = jax.random.truncated_normal(\n",
        "      param_key, -1, 1, (3,)\n",
        "  )\n",
        "  rng_key, param_key = jax.random.split(rng_key)\n",
        "  params['w_v'] = jax.random.truncated_normal(\n",
        "      param_key, -1, 1, (50,)\n",
        "  )\n",
        "  return params"
      ]
    },
    {
      "cell_type": "code",
      "execution_count": null,
      "metadata": {
        "id": "vRBP0xjtQvTi"
      },
      "outputs": [],
      "source": [
        "def network(params, observation):\n",
        "  # Implement forward pass here\n",
        "  flat_observation = jnp.ravel(observation)\n",
        "  h = jax.nn.relu(jnp.dot(flat_observation, params['w']) + params['b'])\n",
        "  p = jnp.dot(h, params['w_p']) + params['b_p']\n",
        "  v = jnp.dot(h, params['w_v'])\n",
        "  return v, p"
      ]
    },
    {
      "cell_type": "markdown",
      "metadata": {
        "id": "9ImJUgzFosvD"
      },
      "source": [
        "### Choosing actions\n",
        "\n",
        "A critical component of an actor-critic agent is a (stochastic) policy, mapping `observations` to `actions`.\n",
        "\n",
        "In deep RL, this mapping is conventionally parametrised by a deep neural network."
      ]
    },
    {
      "cell_type": "markdown",
      "metadata": {
        "id": "1MVXNWwlYW24"
      },
      "source": [
        "Here we provide a softmax policy parametrised by the neural network above (i.e., using the `network` function). The function has signature `action = softmax_policy(parameters, key, obs)`, taking the current network parameters `parameters`, a JAX random `key` and the current `observation`.\n",
        "\n",
        "### Softmax definition"
      ]
    },
    {
      "cell_type": "code",
      "execution_count": null,
      "metadata": {
        "id": "qSOO10b20yD5"
      },
      "outputs": [],
      "source": [
        "#DO NOT MODIFY\n",
        "# Functions to perform random sampling in JAX (e.g. those in `jax.random`) take\n",
        "# a random key as input, and they are deterministic function of such a key. In\n",
        "# general, in a JAX program you need to use the `jax.random.split` function to\n",
        "# generate new random keys before every new sampling. The run loop that runs the\n",
        "# experiment later on will split and provides the keys for the function defined\n",
        "# here.\n",
        "\n",
        "# Note that we 'jit' the function.  This means the function will be compiled,\n",
        "# which will make it run faster. This does also suppress print statements, so if\n",
        "# you are debugging and want to print please comment out the `@jax.jit` line,\n",
        "# but don't forget to put it back before running the experiment below, and\n",
        "# especially before submitting your assignment.\n",
        "\n",
        "@jax.jit\n",
        "def softmax_policy(parameters, key, obs):\n",
        "  \"\"\"Sample action from a softmax policy.\"\"\"\n",
        "  _, p = network(parameters, obs)\n",
        "  return jax.random.categorical(key, p)"
      ]
    },
    {
      "cell_type": "markdown",
      "metadata": {
        "id": "iMYcb7Y9krnT"
      },
      "source": [
        "### Learning values and policies\n",
        "\n",
        "An actor-critic agent requires to update the parameters of the network so as to simultaneously improve the value predictions and the policy.\n",
        "\n",
        "In the next section you will define the gradient updates for each of these two components."
      ]
    },
    {
      "cell_type": "markdown",
      "metadata": {
        "id": "GsIlpmNEk5fv"
      },
      "source": [
        "### Q3 [4 marks]\n",
        "\n",
        "Implement a function to compute a stochastic estimate of the policy gradient from a 1 step transition in the environment.\n",
        "\n",
        "* You will use $R_{t+1} + \\gamma v(S_{t+1})$ as an estimate of $q_{\\pi}(S_t, A_t)$\n",
        "* You will use $v(S_{t})$ as a baseline to reduce the variance of the updates.\n",
        "\n",
        "In the code we actually use names `obs_tm1`, `a_tm1` (where `tm1` stands for '$t$ minus one') for the observation and action at time $t-1$, and `r_t`, `discount_t`, `obs_t` for the reward, discount, and observation at time $t$. So the code is offset a single time step in terms of naming as compared to the typical mathematical formulations.  This is just a naming convention, and should not impact the algorithm.\n",
        "\n",
        "The function below must therefore have signature `grads = policy_gradient(parameters, obs_tm1, a_tm1, r_t, discount_t, obs_t)`.\n",
        "* Where the inputs are:\n",
        "  * `parameters`: the parameters of the network,\n",
        "  * an observation `obs_tm1`\n",
        "  * the action `a_tm1` selected after observing `obs_tm1`,\n",
        "  * the resulting reward `r_t` and discount `discount_t` and observation `obs_t`, as obsesrved after taking action `a_tm1`.\n",
        "\n",
        "This function should return a stochastic estimate of the policy gradient, where `grads` has the same structure as `parameters` and contains an estimate of the gradient of the expected episodic return wrt to each parameter.\n",
        "\n",
        "The policy-gradient estimate should use bootstrapping, using the value estimates that can be gotten using the saame `parameters` as used for the policy.  So the output of this function can be used in a one-step actor-critic update."
      ]
    },
    {
      "cell_type": "markdown",
      "metadata": {
        "id": "02RJAKiX85Wx"
      },
      "source": [
        "### Jax hint:\n",
        "Note that you can use `jax.grad(f)` to get the gradient of any (pure) jax function with a scalar output.  For instance, consider:\n",
        "\n",
        "        def f(w, x, y):\n",
        "          # w, x, and y are all vectors\n",
        "          return jnp.sum(w*x + y)\n",
        "\n",
        "        df = jax.grad(f)\n",
        "    \n",
        "then calling `df(w, x, y)` will give the gradient of the output of `f(w, x, y)` with respect to the first input argument --- here called `w`. You can use this new function `df` as just a normal function. For instance, it can be called from other functions, as usual.\n",
        "\n",
        "Run the cell below to see a concrete example in action.  Note that `df(w, x, y)` in the example below evaluates to the same values as `x`.  This is correct, because the gradient of `f` with respect to `w` is indeed `x`."
      ]
    },
    {
      "cell_type": "code",
      "execution_count": null,
      "metadata": {
        "id": "t1TjveqqGnNA"
      },
      "outputs": [],
      "source": [
        "def f(w, x, y):\n",
        "  return jnp.sum(w*x + y)\n",
        "\n",
        "df = jax.grad(f)\n",
        "\n",
        "w = jnp.array([1., 2.])\n",
        "x = jnp.array([3., 5.])\n",
        "y = jnp.array([7., 11.])\n",
        "\n",
        "print(f'f(w, x, y):  {f(w, x, y)}')\n",
        "print(f'df(w, x, y): {df(w, x, y)}')"
      ]
    },
    {
      "cell_type": "markdown",
      "metadata": {
        "id": "wngNEiwrQeF0"
      },
      "source": [
        "### Jax hint:\n",
        "You network will have a dictionary `params` as input.  Suppose you have a function that computes the output of a network, and then uses this to do some stuff, and you want the gradient of that new function.  That is, suppose your code looks something like this:\n",
        "\n",
        "        # Define network\n",
        "        def network(params, ...):\n",
        "          ...\n",
        "\n",
        "        # Define a new function\n",
        "        def function(params, x, y, z, ...):\n",
        "           ...\n",
        "           output = network(params, x)\n",
        "           ...\n",
        "           return ...(some function of output)...        \n",
        "\n",
        "Now,\n",
        "```\n",
        "grads = jax.grad(function)(params, x, y, z, ...)\n",
        "```\n",
        "will give the gradients of `function` with respect to the first input argument, `params`.  These gradients `grads` will have exactly the same shape as the input argment `params`.\n",
        "\n",
        "But note that we cannot do things like `params + grads`, because `params` and `grads` are both dictionaries, not just `jnp.array`s.  Instead, we could explicitly traverse the dictionary.  But it is perhaps even easier to use in-built tree utils in Jax.  Specifically, the util `jax.tree_util.tree_map(f, x, y)` applies function f to all the elements in `x` and `y`.\n",
        "\n",
        "For instance, to add the gradients to the parameters, we can use:\n",
        "```\n",
        "def add_gradient_to_weight(w, g, learning_rate=0.1):\n",
        "  return w + learning_rate * g\n",
        "new_params = jax.tree_map(add_gradient_to_weight, params, grads)\n",
        "```\n",
        "The above snippet would apply the function `add_gradient_to_weight` to the elements in `params` and `grads`, here adding each element in `grads` to each corresponding element in `weights` (in this case using the default learning rate `learning_rate=0.1`, as specified in the function definition).\n"
      ]
    },
    {
      "cell_type": "code",
      "execution_count": null,
      "metadata": {
        "id": "AHLGjy8he6vh"
      },
      "outputs": [],
      "source": [
        "def policy_gradient(parameters, obs_tm1, a_tm1, r_t, discount_t, obs_t):\n",
        "  def log_policy(parameters, observation, action):\n",
        "    _, p = network(parameters, observation)\n",
        "    log_p = jax.nn.log_softmax(p)\n",
        "    return log_p[action]\n",
        "  v_tm1, _ = network(parameters, obs_tm1)\n",
        "  v_t, _ = network(parameters, obs_t)\n",
        "  td_error = r_t + discount_t * v_t - v_tm1\n",
        "  policy_grad = jax.grad(log_policy)(parameters, obs_tm1, a_tm1)\n",
        "  return jax.tree_util.tree_map(lambda g: g * td_error, policy_grad)"
      ]
    },
    {
      "cell_type": "markdown",
      "metadata": {
        "id": "5XgjefrBlIGN"
      },
      "source": [
        "### Q4 [4 marks]\n",
        "\n",
        "Implement a function to compute a TD(0) update for the parameters of the value function.\n",
        "\n",
        "It must have signature `td_update = value_update(parameters, obs_tm1, a_tm1, r_t, discount_t, obs_t)`.\n",
        "* Where the inputs are:\n",
        "  * the current parameters `parameters` of the network,\n",
        "  * an observation `obs_tm1`\n",
        "  * the action `a_tm1` selected after observing `obs_tm1`,\n",
        "  * the resulting reward `r_t` and environment discount `discount_t`\n",
        "  * and the following observation `obs_t`\n",
        "* Returns a stochastic TD(0) semi-gradient update: `td_update` has the same structure as `parameters`. This contains a stochastic estimate of the negative semi-gradient of the expected value prediction loss: a TD(0) update."
      ]
    },
    {
      "cell_type": "code",
      "execution_count": null,
      "metadata": {
        "id": "CAONu72iTpzx"
      },
      "outputs": [],
      "source": [
        "def value_update(parameters, obs_tm1, a_tm1, r_t, discount_t, obs_t):\n",
        "  def value(parameters, observation):\n",
        "    v, _ = network(parameters, observation)\n",
        "    return v\n",
        "  v_tm1 = value(parameters, obs_tm1)\n",
        "  v_t = value(parameters, obs_t)\n",
        "  td_error = r_t + discount_t * v_t - v_tm1\n",
        "  value_grad = jax.grad(value)(parameters, obs_tm1)\n",
        "  return jax.tree_util.tree_map(lambda g: g * td_error, value_grad)"
      ]
    },
    {
      "cell_type": "markdown",
      "metadata": {
        "id": "jAXgLZg8mfMd"
      },
      "source": [
        "### Updating shared parameters\n",
        "\n",
        "The policy gradient identifies the direction of change in the parameters that most steeply improve the policy.\n",
        "The value update identifies the direction of change in the parameters that improves the value predictions (according to TD).\n",
        "\n",
        "However, the value and policy share some of the parameters of the network.  How do we combine the two gradient updates?\n",
        "\n",
        "In this assignment, we simply sum the policy and value components.\n",
        "The function that combines the two gradients is implemented for you in the cell below.  Note the use of `jax.tree_map` to facilitate adding the structured parameters."
      ]
    },
    {
      "cell_type": "code",
      "execution_count": null,
      "metadata": {
        "id": "uhKCLe8jjkdZ"
      },
      "outputs": [],
      "source": [
        "@jax.jit\n",
        "def compute_gradient(parameters, obs_tm1, a_tm1, r_t, discount_t, obs_t):\n",
        "  pgrads = policy_gradient(parameters, obs_tm1, a_tm1, r_t, discount_t, obs_t)\n",
        "  td_update = value_update(parameters, obs_tm1, a_tm1, r_t, discount_t, obs_t)\n",
        "  return jax.tree_util.tree_map(lambda pg, td: pg + td, pgrads, td_update)"
      ]
    },
    {
      "cell_type": "markdown",
      "metadata": {
        "id": "tYaVb6GcpCRe"
      },
      "source": [
        "### Optimisation\n",
        "\n",
        "In deep learning, gradient updates are typically rescaled and modifed to avoid taking too large a step on a single update (e.g., due to large variance), and to facilitate the optimisation process (it turns out raw stochatic gradients are often not the most effective for updating neural networks).\n",
        "\n",
        "For instance given a candidate gradient update $\\nabla$ we may update our parameters $\\theta$ by;\n",
        "$$\\Delta \\theta = \\theta + \\alpha * \\nabla\\,,$$\n",
        "where $\\alpha$ is a small number between 0 and 1 (e.g., $\\alpha=0.01$ or $\\alpha=0.001$), referred to as `step_size` or `learning_rate`\n",
        "\n",
        "The gradients with respect to each weight of a neural network may however have very different magnitudes. This can make it hard to set a suitable learning rate $\\alpha$.\n",
        "\n",
        "In deep learning, and deep RL, we typically use adaptive learning rates, for instance by rescaling each component of the gradient using statistics tracking the typical size of the updates to that weight. Then the entire update is rescaled using a global `learning_rate` $\\alpha$.\n"
      ]
    },
    {
      "cell_type": "markdown",
      "metadata": {
        "id": "hbFePWfApaMU"
      },
      "source": [
        "### Q5 [2 marks]\n",
        "\n",
        "A popular approach to adaptive gradient rescaling was introduced by the `Adam` algorithm.\n",
        "This algorithm implements the following procedure before applying each update:\n",
        "* Increase an update counter $k \\gets k+1$ (starting at k=0 before any updates),\n",
        "* Update the first moment of each gradient component $\\mu \\gets (1 - \\beta_1) g + \\beta_1 \\mu$ where $g$ is the latest stochastic gradient, where $\\beta_1$ is a parameter for the moving average.\n",
        "* Update the second moment of each gradient component $\\nu_i = (1 - \\beta_2) g_i ^ 2 + \\beta_2 \\nu_i $ where $g$ is the latest gradient update, where $\\beta_2$ is a parameter for the moving average.\n",
        "* Use the following update to update the weights:\n",
        "$$\\Delta w = \\alpha \\frac{\\mu / (1 - \\beta_1 ^ {k})}{\\epsilon + \\sqrt{\\nu / (1 - \\beta_1 ^ {k})}}$$\n",
        "* $\\alpha$ is a global `learning rate`\n",
        "* $\\beta_1$ and $\\beta_2$ define a soft horizon for the per-weight statistics.\n",
        "* $\\epsilon$ makes the rescaling more robust to numerical issues.\n",
        "\n",
        "(See [Kingma et al, 2014](https://arxiv.org/abs/1412.6980) for details, if you are interested.)\n",
        "\n",
        "In the next cell define a pair of functions (`opt_init`, and `opt_update` --- in each case `opt` is short for 'optimiser'), where:\n",
        "\n",
        "The `opt_init` function has signature `opt_state = opt_init(parameters)`.\n",
        "* Takes the network parameters as inputs\n",
        "* Initialises an `optimiser state` holding the per weight statistics.\n",
        "\n",
        "The `opt_update` function has signature `updates, opt_state = opt_update(grads, opt_state)`.\n",
        "* Takes a `gradient` and an `optimisers state`,\n",
        "* and returns the transformed gradient and the updated `optimiser state`.\n",
        "\n",
        "The optimiser state `opt_state` should contain:\n",
        "* The first-order momentum $\\mu$, as updated with a moving-average-parameter $\\beta_1$ which we call `b1` in the code.\n",
        "* The first-order momentum $\\nu$, as updated with a moving-average-parameter $\\beta_2$ which we call `b2` in the code.\n",
        "\n",
        "We will ignore the initial correction Adam typically uses, and will instead use the simpler transformation:\n",
        "$$\\Delta w = \\alpha \\frac{\\mu}{\\epsilon + \\sqrt{\\nu}}$$\n",
        "\n",
        "Set the algorithm's hyper-parameters to $\\alpha=0.003$, $\\beta_1=.9$ and $\\beta_2=.999$, $\\epsilon=10^{-4}$.  You are allowed to hard-code these in, or make them configurable (e.g., pass them as additional arguments to `opt_update`, which is better if you want to play around, of course).  Set the initial moving averages to zero for $\\mu$ and one for $\\nu$.  E.g.,\n",
        "\n",
        "        mu = jax.tree_map(jnp.zeros_like, parameters)"
      ]
    },
    {
      "cell_type": "code",
      "execution_count": null,
      "metadata": {
        "id": "017XRA_BpbZx"
      },
      "outputs": [],
      "source": [
        "def opt_init(parameters):\n",
        "  mu = jax.tree_map(jnp.zeros_like, parameters)\n",
        "  nu = jax.tree_map(jnp.ones_like, parameters)\n",
        "  opt_state = (mu, nu)\n",
        "  return opt_state\n",
        "\n",
        "def opt_update(grads, opt_state):\n",
        "  mu, nu = opt_state\n",
        "  alpha = 0.003\n",
        "  b1 = 0.9\n",
        "  b2 = 0.999\n",
        "  eps = 1e-4\n",
        "  mu = jax.tree_util.tree_map(lambda g, m: (1 - b1) * g + b1 * m, grads, mu)\n",
        "  nu = jax.tree_util.tree_map(lambda g, n: (1 - b2) * g**2 + b2 * n, grads, nu)\n",
        "  updates = jax.tree_util.tree_map(lambda m, n: alpha * m / (eps + jnp.sqrt(n)), mu, nu)\n",
        "  opt_state = (mu, nu)\n",
        "  return updates, opt_state"
      ]
    },
    {
      "cell_type": "markdown",
      "metadata": {
        "id": "DczWvZfNSnTj"
      },
      "source": [
        "### Run experiments\n",
        "\n",
        "Run the cell below to show the performance of the resulting agent.\n",
        "\n",
        "You may also use this section for debugging your implementations.\n",
        "\n",
        "Note however, that most functions are `jitted` for performance,\n",
        "* either using the `@jax.jit` decorator in the function definition\n",
        "* or calling explicitly `fn = jax.jit(fn)`\n",
        "\n",
        "When jitting, the code is compiled on the first time the function is executed\n",
        "* and execution is much faster on subsequent calls.\n",
        "* a notable side effect is that print statements in a jitted function will only execute on the first execution of the function.\n",
        "* to drop into a debugger or print on each function execution you will have to disable the `@jax.jit` annotations and jax.jit calls."
      ]
    },
    {
      "cell_type": "code",
      "execution_count": null,
      "metadata": {
        "id": "Fz837XTkLxE8"
      },
      "outputs": [],
      "source": [
        "# DO NOT CHANGE THIS CELL\n",
        "\n",
        "# Experiment configs.\n",
        "train_episodes = 1500\n",
        "discount_factor = .99\n",
        "\n",
        "# Create environment.\n",
        "env = catch.Catch(seed=42)\n",
        "\n",
        "# Build and initialize network.\n",
        "rng = jax.random.PRNGKey(44)\n",
        "rng, init_rng = jax.random.split(rng)\n",
        "sample_input = env.observation_spec().generate_value()\n",
        "parameters = create_parameters(init_rng, sample_input)\n",
        "\n",
        "# Initialize optimizer state.\n",
        "opt_state = opt_init(parameters)\n",
        "\n",
        "# Apply updates\n",
        "def apply_updates(params, updates):\n",
        "  return jax.tree_util.tree_map(lambda p, u: p + u, params, updates)\n",
        "\n",
        "# Jit.\n",
        "opt_update = jax.jit(opt_update)\n",
        "apply_updates = jax.jit(apply_updates)\n",
        "\n",
        "print(f\"Training agent for {train_episodes} episodes...\")\n",
        "all_episode_returns = []\n",
        "\n",
        "for _ in range(train_episodes):\n",
        "  episode_return = 0.\n",
        "  timestep = env.reset()\n",
        "  obs_tm1 = timestep.observation\n",
        "\n",
        "  # Sample initial action.\n",
        "  rng, policy_rng = jax.random.split(rng)\n",
        "  a_tm1 = softmax_policy(parameters, policy_rng, obs_tm1)\n",
        "\n",
        "  while not timestep.last():\n",
        "    # Step environment.\n",
        "    new_timestep = env.step(int(a_tm1))\n",
        "\n",
        "    # Sample action from agent policy.\n",
        "    rng, policy_rng = jax.random.split(rng)\n",
        "    a_t = softmax_policy(parameters, policy_rng, new_timestep.observation)\n",
        "\n",
        "    # Update params.\n",
        "    r_t = new_timestep.reward\n",
        "    discount_t = discount_factor * new_timestep.discount\n",
        "    dJ_dtheta = compute_gradient(\n",
        "        parameters, obs_tm1, a_tm1, r_t, discount_t,\n",
        "        new_timestep.observation)\n",
        "    updates, opt_state = opt_update(dJ_dtheta, opt_state)\n",
        "    parameters = apply_updates(parameters, updates)\n",
        "\n",
        "    # Within episode book-keeping.\n",
        "    episode_return += new_timestep.reward\n",
        "    timestep = new_timestep\n",
        "    obs_tm1 = new_timestep.observation\n",
        "    a_tm1 = a_t\n",
        "\n",
        "  # Experiment results tracking.\n",
        "  all_episode_returns.append(episode_return)\n",
        "\n",
        "# Plot learning curve.\n",
        "plot_learning_curve(all_episode_returns)"
      ]
    },
    {
      "cell_type": "markdown",
      "metadata": {
        "id": "9dowFJ_l-32A"
      },
      "source": [
        "# B) An alternative update\n",
        "\n",
        "You are going to implement a different kind of agent.\n",
        "\n",
        "Like an actor-critic, it learns online from a single stream of experience, updating the parametes after each transition in the environment."
      ]
    },
    {
      "cell_type": "markdown",
      "metadata": {
        "id": "aQD0Qw8-_QJy"
      },
      "source": [
        "### Neural networks\n",
        "\n",
        "\n",
        "The agent will reuse the same neural network we defined for the actor-critic:\n",
        "* the scalar output will be trained via TD to estimate state values\n",
        "* the vector preferences `p` will be updated according to a different rule."
      ]
    },
    {
      "cell_type": "markdown",
      "metadata": {
        "id": "I6j0AIF8GhdR"
      },
      "source": [
        "### Choosing actions\n",
        "\n",
        "As in actor-critics, the (stochastic) mapping from `observations` to `actions` depends on the vector of preferences `p` from the network."
      ]
    },
    {
      "cell_type": "markdown",
      "metadata": {
        "id": "jE00LhDL_nbC"
      },
      "source": [
        "### Q6 [2 marks]\n",
        "\n",
        "The new agent's policy will have the signature `action = epsilon_greedy_policy(parameters, key, observation)`,\n",
        "* Take as inputs the current network parameters `parameters`, a JAX random `key` and the current `observation`\n",
        "* Return with probability `0.9` the greedy `action` with respect to the preferences `p`, ties must be broken at random.\n",
        "* Return an action uniformly at random with probability `0.1`"
      ]
    },
    {
      "cell_type": "code",
      "execution_count": null,
      "metadata": {
        "id": "8IwTDROL_Lx5"
      },
      "outputs": [],
      "source": [
        "@jax.jit\n",
        "def epsilon_greedy_policy(parameters, key, observation):\n",
        "  \"\"\"Sample action from an epsilon-greedy policy.\"\"\"\n",
        "  _, p = network(parameters, observation)\n",
        "  key, subkey = jax.random.split(key)\n",
        "  greedy_action = jnp.argmax(p)\n",
        "  key, subkey = jax.random.split(key)\n",
        "  random_action = jax.random.randint(subkey, shape=(), minval=0, maxval=p.shape[0])\n",
        "  key, subkey = jax.random.split(key)\n",
        "  prob = jax.random.uniform(subkey)\n",
        "  action = jnp.where(prob < 0.1, random_action, greedy_action)\n",
        "  return action"
      ]
    },
    {
      "cell_type": "markdown",
      "metadata": {
        "id": "l1zQiRX5BfeA"
      },
      "source": [
        "### Q7 [3 marks]\n",
        "\n",
        "The parameters $w_p$ of the preferences $p_{w_p}(s, a)$ will be update according to the following gradient-based update:\n",
        "\n",
        "$$\\Delta w_p = \\alpha (R_{t+1} + \\gamma v(S_{t+1}) - p(S_{t}, A_t)) \\nabla p(S_t, A_t))$$\n",
        "\n",
        "where `v` is the state value trained by TD as in the actor critic.\n",
        "\n",
        "You musy implement this in the function `preference_gradient`, with the same signature as `policy_gradient`"
      ]
    },
    {
      "cell_type": "code",
      "execution_count": null,
      "metadata": {
        "id": "6fQhAWXqLNt-"
      },
      "outputs": [],
      "source": [
        "def preference_gradient(parameters, obs_tm1, a_tm1, r_t, discount_t, obs_t):\n",
        "  def preference(parameters, observation):\n",
        "    _, p = network(parameters, observation)\n",
        "    return p\n",
        "\n",
        "  p_tm1 = preference(parameters, obs_tm1)\n",
        "  p_tm1_a = p_tm1[a_tm1]\n",
        "  v_t, _ = network(parameters, obs_t)\n",
        "  target = r_t + discount_t * v_t\n",
        "  td_error = target - p_tm1_a\n",
        "\n",
        "  def performance_single(parameters):\n",
        "    return preference(parameters, obs_tm1)[a_tm1]\n",
        "\n",
        "  performance_grad = jax.grad(performance_single)(parameters)\n",
        "  return jax.tree_util.tree_map(lambda g: g * td_error, performance_grad)"
      ]
    },
    {
      "cell_type": "markdown",
      "metadata": {
        "id": "hz4RFKnVF8E8"
      },
      "source": [
        "### Updating shared parameters\n",
        "\n",
        "Just like in the actor critic the overall update to the parameters is a combination of two quantities:\n",
        "* the new update we defined for the vector of preferences\n",
        "* the same TD update to the scalar output that we used in the actor critic"
      ]
    },
    {
      "cell_type": "code",
      "execution_count": null,
      "metadata": {
        "id": "QnghCzKhF-gI"
      },
      "outputs": [],
      "source": [
        "@jax.jit\n",
        "def compute_gradient(parameters, obs_tm1, a_tm1, r_t, discount_t, obs_t):\n",
        "  pgrads = preference_gradient(parameters, obs_tm1, a_tm1, r_t, discount_t, obs_t)\n",
        "  vgrads = value_update(parameters, obs_tm1, a_tm1, r_t, discount_t, obs_t)\n",
        "  return jax.tree_util.tree_map(lambda pg, td: pg + td, pgrads, vgrads)"
      ]
    },
    {
      "cell_type": "markdown",
      "metadata": {
        "id": "44QBKEF4HFK8"
      },
      "source": [
        "### Optimisation\n",
        "\n",
        "The gradient updates are rescaled using the same optimiser used for the actor-critic."
      ]
    },
    {
      "cell_type": "markdown",
      "metadata": {
        "id": "dbdHQo23FJit"
      },
      "source": [
        "### Run experiments\n",
        "\n",
        "Run the cell below to show the performance of the new agent."
      ]
    },
    {
      "cell_type": "code",
      "execution_count": null,
      "metadata": {
        "id": "ept5NG1oFLnu"
      },
      "outputs": [],
      "source": [
        "# DO NOT CHANGE THIS CELL\n",
        "\n",
        "# Experiment configs.\n",
        "train_episodes = 1500\n",
        "discount_factor = .99\n",
        "\n",
        "# Create environment.\n",
        "env = catch.Catch(seed=42)\n",
        "\n",
        "# Build and initialize network.\n",
        "rng = jax.random.PRNGKey(44)\n",
        "rng, init_rng = jax.random.split(rng)\n",
        "sample_input = env.observation_spec().generate_value()\n",
        "parameters = create_parameters(init_rng, sample_input)\n",
        "\n",
        "# Initialize optimizer state.\n",
        "opt_state = opt_init(parameters)\n",
        "\n",
        "# Apply updates\n",
        "def apply_updates(params, updates):\n",
        "  return jax.tree_util.tree_map(lambda p, u: p + u, params, updates)\n",
        "\n",
        "# Jit.\n",
        "opt_update = jax.jit(opt_update)\n",
        "apply_updates = jax.jit(apply_updates)\n",
        "\n",
        "print(f\"Training agent for {train_episodes} episodes...\")\n",
        "all_episode_returns = []\n",
        "\n",
        "for _ in range(train_episodes):\n",
        "  episode_return = 0.\n",
        "  timestep = env.reset()\n",
        "  obs_tm1 = timestep.observation\n",
        "\n",
        "  # Sample initial action.\n",
        "  rng, policy_rng = jax.random.split(rng)\n",
        "  a_tm1 = epsilon_greedy_policy(parameters, policy_rng, obs_tm1)\n",
        "\n",
        "  while not timestep.last():\n",
        "    # Step environment.\n",
        "    new_timestep = env.step(int(a_tm1))\n",
        "\n",
        "    # Sample action from agent policy.\n",
        "    rng, policy_rng = jax.random.split(rng)\n",
        "    a_t = epsilon_greedy_policy(parameters, policy_rng, new_timestep.observation)\n",
        "\n",
        "    # Update params.\n",
        "    r_t = new_timestep.reward\n",
        "    discount_t = discount_factor * new_timestep.discount\n",
        "\n",
        "    dJ_dtheta = compute_gradient(\n",
        "        parameters, obs_tm1, a_tm1, r_t, discount_t,\n",
        "        new_timestep.observation)\n",
        "    updates, opt_state = opt_update(dJ_dtheta, opt_state)\n",
        "    parameters = apply_updates(parameters, updates)\n",
        "\n",
        "    # Within episode book-keeping.\n",
        "    episode_return += new_timestep.reward\n",
        "    timestep = new_timestep\n",
        "    obs_tm1 = new_timestep.observation\n",
        "    a_tm1 = a_t\n",
        "\n",
        "  # Experiment results tracking.\n",
        "  all_episode_returns.append(episode_return)\n",
        "\n",
        "# Plot learning curve.\n",
        "plot_learning_curve(all_episode_returns)"
      ]
    },
    {
      "cell_type": "markdown",
      "metadata": {
        "id": "g80tBzfsBgya"
      },
      "source": [
        "### Q8 [8 marks]\n",
        "\n",
        "[2pts]: Run the optimisation in Part A) with both normal SGD (with a constant learning rate = 1e-3) and the ADAM optimisation you implemented. What can you observe? Explain any difference you might see. Please include both plots your answer (one for SGD and the other one for ADAM).\n",
        "\n",
        "> Observation:<br>\n",
        "SGD-lr=1e-3 ![sgd.png](data:image/png;base64,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)\n",
        "<br>\n",
        "- The learning curve is noisy and shows poor improvement over time.\n",
        "<br>\n",
        "- The agent's average return fluctuates between -0.9 and -0.2, showing no clear sign of convergence.\n",
        "<br>\n",
        "- This shows that SGD with a constant learning rate is not stable enough for this environment and policy structure.\n",
        "\n",
        "\n",
        ">Adam ![adam.png](data:image/png;base64,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)\n",
        "\n",
        "- The agent shows clear learning progress, which returns increase steadily throughout the training.\n",
        "\n",
        "- The curve becomes smoother in later episodes, showing more stability.\n",
        "\n",
        "- Adam leads to higher and more stable final performance by its adaptive learning rates and momentum.\n",
        "<br>\n",
        "Difference: <br>\n",
        "Adam performs better than SGD. When SGD suffers from instability and fails to reach good performance, Adam agent converges faster and achieves a much better asymptotic return by its adaptive learning rate update mechanism.\n",
        "<br>\n",
        "\n",
        "\n",
        "[2pts]: What is the best asymptotic average return that can be achieved by the actor-critic agent described in `Part A)`? Can this be further improved, and if so: how? Explain your answer.\n",
        "\n",
        "> The best asymptotic average return achieved by the actor-critic agent in Part A is approximately -0.2 to -0.1, based on the Adam-optimized learning curve. <br>\n",
        "It could be improved by:\n",
        "1. Tuning the learning rate and discount factor.\n",
        "2. Adding baseline subtraction.\n",
        "3. Training for more episodes or increasing batch size\n",
        "\n",
        "[2pts] What is the best asymptotic average return that can be achieved by the second agent described in `Part B)`? Can this be further improved, and if so: how? Explain your answer.\n",
        "\n",
        "> The second agent in Part B achieves a best asymptotic return of approximately +1.0, which is significantly higher than in Part A. <br>\n",
        "Its performance can potentially be further improved by:\n",
        "1. Optimizing the epsilon-greedy policy parameters.\n",
        "2. Further tuning Adam's hyperparameters.\n",
        "3. Using entropy regularization to encourage exploration.\n",
        "\n",
        "\n",
        "[2pts] What quantity do the preferences `p` estimate in the second agent described in Part B?\n",
        "\n",
        "> The preferences p estimate a desirability for each action in the current state, based on the learned function. These relative scores determine the likelihood of selecting actions through epsilon-greedy policy. p(s, a) represents the agent's learned preference for action a in state s, guiding behavior toward more rewarding actions through gradient updates."
      ]
    },
    {
      "cell_type": "code",
      "execution_count": null,
      "metadata": {
        "id": "0BJrDzXJxTl7"
      },
      "outputs": [],
      "source": []
    }
  ],
  "metadata": {
    "colab": {
      "private_outputs": true,
      "provenance": []
    },
    "kernelspec": {
      "display_name": "Python 3",
      "name": "python3"
    }
  },
  "nbformat": 4,
  "nbformat_minor": 0
}